{
 "cells": [
  {
   "cell_type": "code",
   "execution_count": 67,
   "id": "e7ae5c84",
   "metadata": {},
   "outputs": [
    {
     "name": "stdout",
     "output_type": "stream",
     "text": [
      "The autoreload extension is already loaded. To reload it, use:\n",
      "  %reload_ext autoreload\n"
     ]
    }
   ],
   "source": [
    "%load_ext autoreload\n",
    "# reloads the file constantly so you don't need to reset\n",
    "%autoreload 2"
   ]
  },
  {
   "cell_type": "code",
   "execution_count": 80,
   "id": "c18d1fd3-aeba-441b-8606-e9ad97ac9415",
   "metadata": {},
   "outputs": [],
   "source": [
    "%reload_ext autoreload"
   ]
  },
  {
   "cell_type": "code",
   "execution_count": 89,
   "id": "f923686a",
   "metadata": {},
   "outputs": [],
   "source": [
    "# import the libraries\n",
    "from search import graph\n",
    "import networkx as nx"
   ]
  },
  {
   "cell_type": "code",
   "execution_count": 91,
   "id": "81acddad",
   "metadata": {},
   "outputs": [
    {
     "data": {
      "text/plain": [
       "['Graph',\n",
       " '__builtins__',\n",
       " '__cached__',\n",
       " '__file__',\n",
       " '__loader__',\n",
       " '__name__',\n",
       " '__package__',\n",
       " '__spec__',\n",
       " 'nx']"
      ]
     },
     "execution_count": 91,
     "metadata": {},
     "output_type": "execute_result"
    }
   ],
   "source": [
    "dir(graph) # check to make sure bfs method shows up"
   ]
  },
  {
   "cell_type": "code",
   "execution_count": 93,
   "id": "635d09f0",
   "metadata": {},
   "outputs": [
    {
     "data": {
      "text/plain": [
       "['33765435', '33242416', '31395880', '30944313']"
      ]
     },
     "execution_count": 93,
     "metadata": {},
     "output_type": "execute_result"
    }
   ],
   "source": [
    "#graph = Graph.graph(\"./data/citation_network.adjlist\")\n",
    "# read in the test graph\n",
    "G = nx.read_adjlist(\"./data/tiny_network.adjlist\", create_using=nx.DiGraph, delimiter=\";\")\n",
    "G.nodes()\n",
    "list(G.neighbors('Atul Butte'))\n",
    "#neighbors = list(G.neighbors('Atul Butte'))\n",
    "#neighbors"
   ]
  },
  {
   "cell_type": "code",
   "execution_count": 53,
   "id": "bee2025c",
   "metadata": {},
   "outputs": [
    {
     "name": "stdout",
     "output_type": "stream",
     "text": [
      "c\n"
     ]
    }
   ],
   "source": [
    "q = ['a', 'b', 'c']\n",
    "print(q.pop())"
   ]
  },
  {
   "cell_type": "code",
   "execution_count": 87,
   "id": "a213f81c",
   "metadata": {},
   "outputs": [
    {
     "name": "stdout",
     "output_type": "stream",
     "text": [
      "['Atul Butte', '33765435', '33242416', '31395880', '30944313', 'Hani Goodarzi', 'Nevan Krogan', 'Marina Sirota', '31486345', 'Michael Keiser', '33232663', 'Charles Chiu', 'Martin Kampmann', '33483487', '32790644', '31806696', '31626775', '31540829', 'Luke Gilbert', 'Neil Risch', '29700475', 'Steven Altschuler', 'Lani Wu', '32042149', '32036252', '30727954', 'Michael McManus', '32025019', '34272374', '32353859']\n"
     ]
    }
   ],
   "source": [
    "Q = []\n",
    "visited = []\n",
    "\n",
    "# add the current starting node to the queue and visited\n",
    "Q.append('Atul Butte')\n",
    "visited.append('Atul Butte')\n",
    "\n",
    "# while there are items in the queue\n",
    "while Q:\n",
    "    # get the neighbors of the oldest item in the queue\n",
    "    v = Q.pop()\n",
    "    N = G.neighbors(v)\n",
    "\n",
    "    # for all the neighbors\n",
    "    for w in N:\n",
    "        # if it hasn't been visited, visit the node and add it to the queue\n",
    "        if w not in visited:\n",
    "            visited.append(w)\n",
    "            Q.append(w)\n",
    "            \n",
    "print(visited)"
   ]
  },
  {
   "cell_type": "code",
   "execution_count": 94,
   "id": "07b44467",
   "metadata": {},
   "outputs": [
    {
     "ename": "NetworkXNotImplemented",
     "evalue": "not implemented for directed type",
     "output_type": "error",
     "traceback": [
      "\u001b[0;31m---------------------------------------------------------------------------\u001b[0m",
      "\u001b[0;31mNetworkXNotImplemented\u001b[0m                    Traceback (most recent call last)",
      "Cell \u001b[0;32mIn[94], line 1\u001b[0m\n\u001b[0;32m----> 1\u001b[0m \u001b[43mgraph\u001b[49m\u001b[38;5;241;43m.\u001b[39;49m\u001b[43mGraph\u001b[49m\u001b[38;5;241;43m.\u001b[39;49m\u001b[43mbfs\u001b[49m\u001b[43m(\u001b[49m\u001b[43mG\u001b[49m\u001b[43m,\u001b[49m\u001b[43m \u001b[49m\u001b[38;5;124;43m'\u001b[39;49m\u001b[38;5;124;43mAtul Butte\u001b[39;49m\u001b[38;5;124;43m'\u001b[39;49m\u001b[43m)\u001b[49m\n",
      "File \u001b[0;32m~/Library/CloudStorage/OneDrive-NortheasternUniversity/UCSF/Classes/Quarter2/BMI203_Algorithms/HW2-BFS/search/graph.py:32\u001b[0m, in \u001b[0;36mbfs\u001b[0;34m(self, start, end)\u001b[0m\n\u001b[1;32m     30\u001b[0m \n\u001b[1;32m     31\u001b[0m         # edge case for unconnected graph\n\u001b[0;32m---> 32\u001b[0m         if nx.is_connected(G):\n\u001b[1;32m     33\u001b[0m             raise ValueError(\"This graph is not connected!\")\n\u001b[1;32m     34\u001b[0m \n",
      "File \u001b[0;32m<class 'networkx.utils.decorators.argmap'> compilation 13:3\u001b[0m, in \u001b[0;36margmap_is_connected_10\u001b[0;34m(G)\u001b[0m\n\u001b[1;32m      1\u001b[0m \u001b[38;5;28;01mimport\u001b[39;00m \u001b[38;5;21;01mbz2\u001b[39;00m\n\u001b[1;32m      2\u001b[0m \u001b[38;5;28;01mimport\u001b[39;00m \u001b[38;5;21;01mcollections\u001b[39;00m\n\u001b[0;32m----> 3\u001b[0m \u001b[38;5;28;01mimport\u001b[39;00m \u001b[38;5;21;01mgzip\u001b[39;00m\n\u001b[1;32m      4\u001b[0m \u001b[38;5;28;01mimport\u001b[39;00m \u001b[38;5;21;01minspect\u001b[39;00m\n\u001b[1;32m      5\u001b[0m \u001b[38;5;28;01mimport\u001b[39;00m \u001b[38;5;21;01mitertools\u001b[39;00m\n",
      "File \u001b[0;32m~/opt/anaconda3/lib/python3.9/site-packages/networkx/utils/decorators.py:88\u001b[0m, in \u001b[0;36mnot_implemented_for.<locals>._not_implemented_for\u001b[0;34m(g)\u001b[0m\n\u001b[1;32m     84\u001b[0m \u001b[38;5;28;01mdef\u001b[39;00m \u001b[38;5;21m_not_implemented_for\u001b[39m(g):\n\u001b[1;32m     85\u001b[0m     \u001b[38;5;28;01mif\u001b[39;00m (mval \u001b[38;5;129;01mis\u001b[39;00m \u001b[38;5;28;01mNone\u001b[39;00m \u001b[38;5;129;01mor\u001b[39;00m mval \u001b[38;5;241m==\u001b[39m g\u001b[38;5;241m.\u001b[39mis_multigraph()) \u001b[38;5;129;01mand\u001b[39;00m (\n\u001b[1;32m     86\u001b[0m         dval \u001b[38;5;129;01mis\u001b[39;00m \u001b[38;5;28;01mNone\u001b[39;00m \u001b[38;5;129;01mor\u001b[39;00m dval \u001b[38;5;241m==\u001b[39m g\u001b[38;5;241m.\u001b[39mis_directed()\n\u001b[1;32m     87\u001b[0m     ):\n\u001b[0;32m---> 88\u001b[0m         \u001b[38;5;28;01mraise\u001b[39;00m nx\u001b[38;5;241m.\u001b[39mNetworkXNotImplemented(errmsg)\n\u001b[1;32m     90\u001b[0m     \u001b[38;5;28;01mreturn\u001b[39;00m g\n",
      "\u001b[0;31mNetworkXNotImplemented\u001b[0m: not implemented for directed type"
     ]
    }
   ],
   "source": [
    "graph.Graph.bfs(G, 'Atul Butte')\n",
    " \n",
    "#nx.draw(graph)"
   ]
  },
  {
   "cell_type": "code",
   "execution_count": 113,
   "id": "39299d6f-b60b-4d90-a5f7-f7cd4d635551",
   "metadata": {},
   "outputs": [
    {
     "name": "stdout",
     "output_type": "stream",
     "text": [
      "{'Atul Butte': None, '33765435': 'Atul Butte', '33242416': 'Atul Butte', '31395880': 'Atul Butte', '30944313': 'Atul Butte', 'Marina Sirota': '33765435', 'Steven Altschuler': '31395880', 'Lani Wu': '31395880', 'Hani Goodarzi': '30944313', 'Nevan Krogan': '30944313', '31486345': 'Marina Sirota', '32036252': 'Steven Altschuler', '32042149': 'Lani Wu', '31806696': 'Lani Wu', '30727954': 'Lani Wu', '33232663': 'Hani Goodarzi', '34272374': 'Nevan Krogan', '32353859': 'Nevan Krogan', 'Michael Keiser': '31486345', 'Luke Gilbert': '31806696', 'Michael McManus': '30727954', 'Charles Chiu': '33232663', 'Martin Kampmann': '33232663', '33483487': 'Luke Gilbert', '31626775': 'Luke Gilbert', '31540829': 'Luke Gilbert', '32025019': 'Michael McManus', '29700475': 'Michael McManus', '32790644': 'Martin Kampmann', 'Neil Risch': '31626775'}\n"
     ]
    },
    {
     "data": {
      "text/plain": [
       "['Atul Butte', '33242416']"
      ]
     },
     "execution_count": 113,
     "metadata": {},
     "output_type": "execute_result"
    }
   ],
   "source": [
    "Graph.bfs(G, 'Atul Butte', end='33242416')"
   ]
  },
  {
   "cell_type": "code",
   "execution_count": 69,
   "id": "14dc7d47-bbc1-410e-9622-3e962a9b5024",
   "metadata": {},
   "outputs": [
    {
     "data": {
      "text/plain": [
       "<networkx.classes.digraph.DiGraph at 0x7fdf60b8c1f0>"
      ]
     },
     "execution_count": 69,
     "metadata": {},
     "output_type": "execute_result"
    }
   ],
   "source": [
    "G.neighbors("
   ]
  },
  {
   "cell_type": "code",
   "execution_count": 6,
   "id": "19ab0879-a9d2-4140-8c19-a4744c0f41eb",
   "metadata": {},
   "outputs": [
    {
     "data": {
      "text/plain": [
       "False"
      ]
     },
     "execution_count": 6,
     "metadata": {},
     "output_type": "execute_result"
    }
   ],
   "source": [
    "nx.is_weighted(G)"
   ]
  },
  {
   "cell_type": "code",
   "execution_count": 31,
   "id": "b39fdcf9-237b-463d-861d-226caa7d7fd9",
   "metadata": {},
   "outputs": [
    {
     "data": {
      "text/plain": [
       "['Atul Butte',\n",
       " '33765435',\n",
       " '33242416',\n",
       " '31395880',\n",
       " '30944313',\n",
       " 'Marina Sirota',\n",
       " 'Steven Altschuler',\n",
       " 'Lani Wu',\n",
       " 'Hani Goodarzi',\n",
       " 'Nevan Krogan',\n",
       " '31486345',\n",
       " '32036252',\n",
       " '32042149',\n",
       " '31806696',\n",
       " '30727954',\n",
       " '33232663',\n",
       " '34272374',\n",
       " '32353859',\n",
       " 'Michael Keiser',\n",
       " 'Luke Gilbert',\n",
       " 'Michael McManus',\n",
       " 'Charles Chiu',\n",
       " 'Martin Kampmann',\n",
       " '33483487',\n",
       " '31626775',\n",
       " '31540829',\n",
       " '32025019',\n",
       " '29700475',\n",
       " '32790644',\n",
       " 'Neil Risch']"
      ]
     },
     "execution_count": 31,
     "metadata": {},
     "output_type": "execute_result"
    }
   ],
   "source": [
    "test = (nx.bfs_tree(G, \"Atul Butte\"))\n",
    "list(test)"
   ]
  },
  {
   "cell_type": "code",
   "execution_count": 112,
   "id": "1bd27a3a-94db-490d-b54f-c695a199dddf",
   "metadata": {},
   "outputs": [
    {
     "ename": "ValueError",
     "evalue": "This graph is not connected!",
     "output_type": "error",
     "traceback": [
      "\u001b[0;31m---------------------------------------------------------------------------\u001b[0m",
      "\u001b[0;31mValueError\u001b[0m                                Traceback (most recent call last)",
      "Cell \u001b[0;32mIn[112], line 2\u001b[0m\n\u001b[1;32m      1\u001b[0m citation_graph \u001b[38;5;241m=\u001b[39m nx\u001b[38;5;241m.\u001b[39mread_adjlist(\u001b[38;5;124m\"\u001b[39m\u001b[38;5;124m./data/citation_network.adjlist\u001b[39m\u001b[38;5;124m\"\u001b[39m, create_using\u001b[38;5;241m=\u001b[39mnx\u001b[38;5;241m.\u001b[39mDiGraph, delimiter\u001b[38;5;241m=\u001b[39m\u001b[38;5;124m\"\u001b[39m\u001b[38;5;124m;\u001b[39m\u001b[38;5;124m\"\u001b[39m)\n\u001b[0;32m----> 2\u001b[0m \u001b[43mGraph\u001b[49m\u001b[38;5;241;43m.\u001b[39;49m\u001b[43mbfs\u001b[49m\u001b[43m(\u001b[49m\u001b[43mcitation_graph\u001b[49m\u001b[43m,\u001b[49m\u001b[43m \u001b[49m\u001b[38;5;124;43m'\u001b[39;49m\u001b[38;5;124;43mCharles Chiu\u001b[39;49m\u001b[38;5;124;43m'\u001b[39;49m\u001b[43m)\u001b[49m\n",
      "File \u001b[0;32m~/Library/CloudStorage/OneDrive-NortheasternUniversity/UCSF/Classes/Quarter2/BMI203_Algorithms/HW2-BFS/search/graph.py:35\u001b[0m, in \u001b[0;36mbfs\u001b[0;34m(self, start, end)\u001b[0m\n\u001b[1;32m     33\u001b[0m     raise ValueError(\"This graph is not connected!\")\n\u001b[1;32m     34\u001b[0m \n\u001b[0;32m---> 35\u001b[0m # edge case for start node that doesn't exist in the graph\n\u001b[1;32m     36\u001b[0m if !nx.has_node(start):\n\u001b[1;32m     37\u001b[0m     raise ValueError(\"The start node doesn't exist in the graph!\")\n",
      "\u001b[0;31mValueError\u001b[0m: This graph is not connected!"
     ]
    }
   ],
   "source": [
    "citation_graph = nx.read_adjlist(\"./data/citation_network.adjlist\", create_using=nx.DiGraph, delimiter=\";\")\n",
    "Graph.bfs(citation_graph, 'Charles Chiu')\n",
    "#nx.shortest_path(citation_graph, 'Ryan Hernandez', 'Charles Chiu')"
   ]
  },
  {
   "cell_type": "code",
   "execution_count": 95,
   "id": "d8fa7f5e-88c2-4cff-9b9f-3e0e084cc173",
   "metadata": {},
   "outputs": [
    {
     "data": {
      "text/plain": [
       "True"
      ]
     },
     "execution_count": 95,
     "metadata": {},
     "output_type": "execute_result"
    }
   ],
   "source": [
    "nx.is_directed(G)"
   ]
  },
  {
   "cell_type": "code",
   "execution_count": 99,
   "id": "52f25082-f9eb-4cc3-9c15-adcc7e1eeba0",
   "metadata": {},
   "outputs": [
    {
     "ename": "ValueError",
     "evalue": "The start node doesn't exist in the graph!",
     "output_type": "error",
     "traceback": [
      "\u001b[0;31m---------------------------------------------------------------------------\u001b[0m",
      "\u001b[0;31mValueError\u001b[0m                                Traceback (most recent call last)",
      "Cell \u001b[0;32mIn[99], line 1\u001b[0m\n\u001b[0;32m----> 1\u001b[0m \u001b[43mGraph\u001b[49m\u001b[38;5;241;43m.\u001b[39;49m\u001b[43mbfs\u001b[49m\u001b[43m(\u001b[49m\u001b[43mcitation_graph\u001b[49m\u001b[43m,\u001b[49m\u001b[43m \u001b[49m\u001b[38;5;124;43m'\u001b[39;49m\u001b[38;5;124;43mRyan Hernandez\u001b[39;49m\u001b[38;5;124;43m'\u001b[39;49m\u001b[43m,\u001b[49m\u001b[43m \u001b[49m\u001b[38;5;124;43m'\u001b[39;49m\u001b[38;5;124;43mCharles Chiu\u001b[39;49m\u001b[38;5;124;43m'\u001b[39;49m\u001b[43m)\u001b[49m\n",
      "File \u001b[0;32m~/Library/CloudStorage/OneDrive-NortheasternUniversity/UCSF/Classes/Quarter2/BMI203_Algorithms/HW2-BFS/search/graph.py:43\u001b[0m, in \u001b[0;36mbfs\u001b[0;34m(self, start, end)\u001b[0m\n\u001b[1;32m     41\u001b[0m     raise ValueError(\"The end node doesn't exist in the graph!\")\n\u001b[1;32m     42\u001b[0m \n\u001b[0;32m---> 43\u001b[0m # edge case for \n\u001b[1;32m     44\u001b[0m \n\u001b[1;32m     45\u001b[0m # initialize queue, visited nodes, and predecessors list (used to find path from start to end)\n",
      "\u001b[0;31mValueError\u001b[0m: The start node doesn't exist in the graph!"
     ]
    }
   ],
   "source": [
    "Graph.bfs(citation_graph, 'Ryan Hernandez', 'Charles Chiu')"
   ]
  },
  {
   "cell_type": "code",
   "execution_count": 116,
   "id": "4ff413a3-5a38-44f5-b02b-487befede248",
   "metadata": {},
   "outputs": [
    {
     "data": {
      "text/plain": [
       "['Reza Abbasi-Asl',\n",
       " '34916529',\n",
       " '34858697',\n",
       " '34816322',\n",
       " '34803213',\n",
       " '34754064',\n",
       " '34675264',\n",
       " '34669035',\n",
       " '34663617',\n",
       " '34628539',\n",
       " '34599200',\n",
       " '34575370',\n",
       " '34562930',\n",
       " '34552244',\n",
       " '34550967',\n",
       " '34533455',\n",
       " '34514381',\n",
       " '34504303',\n",
       " '34439940',\n",
       " '34398895',\n",
       " '34355695',\n",
       " '34353906',\n",
       " '34321313',\n",
       " '34296183',\n",
       " '34282528',\n",
       " '34262015',\n",
       " '34218182',\n",
       " '34213915',\n",
       " '34187546',\n",
       " '34181648',\n",
       " '34179769',\n",
       " '34177505',\n",
       " '34124652',\n",
       " '34119572',\n",
       " '34085055',\n",
       " '34049495',\n",
       " '34017295',\n",
       " '33979715',\n",
       " '33977131',\n",
       " '33945818',\n",
       " '33828151',\n",
       " '33783217',\n",
       " '33733145',\n",
       " '33720929',\n",
       " '33693052',\n",
       " '33633172',\n",
       " '33623053',\n",
       " '33600850',\n",
       " '33579384',\n",
       " '33563727',\n",
       " '33408613',\n",
       " '33375658',\n",
       " '33332440',\n",
       " '33328947',\n",
       " '33325504',\n",
       " '33304457',\n",
       " '33301712',\n",
       " '33253147',\n",
       " '33252656',\n",
       " '33208805',\n",
       " '33192663',\n",
       " '33183223',\n",
       " '33096023',\n",
       " '33052899',\n",
       " '33028910',\n",
       " '33004996',\n",
       " '32908264',\n",
       " '32797396',\n",
       " '32393820',\n",
       " '32348299',\n",
       " '32327990',\n",
       " '32278089',\n",
       " '32266273',\n",
       " '32155141',\n",
       " '32092054',\n",
       " '32054788',\n",
       " '31999253',\n",
       " '31941884',\n",
       " '31803040',\n",
       " '31767896',\n",
       " '31616273',\n",
       " '31209381']"
      ]
     },
     "execution_count": 116,
     "metadata": {},
     "output_type": "execute_result"
    }
   ],
   "source": [
    "Graph.bfs(citation_graph, 'Reza Abbasi-Asl')"
   ]
  },
  {
   "cell_type": "code",
   "execution_count": 123,
   "id": "4db2da26-4e82-43f8-a8ac-3c3f2de5322d",
   "metadata": {},
   "outputs": [
    {
     "name": "stdout",
     "output_type": "stream",
     "text": [
      "['Atul Butte', '33765435', '33242416', '31395880', '30944313', 'Marina Sirota', 'Steven Altschuler', 'Lani Wu', 'Hani Goodarzi', 'Nevan Krogan', '31486345', '32036252', '32042149', '31806696', '30727954', '33232663', '34272374', '32353859', 'Michael Keiser', 'Luke Gilbert', 'Michael McManus', 'Charles Chiu', 'Martin Kampmann', '33483487', '31626775', '31540829', '32025019', '29700475', '32790644', 'Neil Risch']\n",
      "DiGraph with 30 nodes and 29 edges\n"
     ]
    }
   ],
   "source": [
    "print(Graph.bfs(G, 'Atul Butte'))\n",
    "\n",
    "print(nx.bfs_tree(G, 'Atul Butte'))"
   ]
  }
 ],
 "metadata": {
  "kernelspec": {
   "display_name": "Python 3 (ipykernel)",
   "language": "python",
   "name": "python3"
  },
  "language_info": {
   "codemirror_mode": {
    "name": "ipython",
    "version": 3
   },
   "file_extension": ".py",
   "mimetype": "text/x-python",
   "name": "python",
   "nbconvert_exporter": "python",
   "pygments_lexer": "ipython3",
   "version": "3.9.7"
  }
 },
 "nbformat": 4,
 "nbformat_minor": 5
}
